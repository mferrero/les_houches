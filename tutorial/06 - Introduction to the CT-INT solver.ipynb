{
 "cells": [
  {
   "cell_type": "markdown",
   "metadata": {},
   "source": [
    "# Introduction to the CT-INT solver\n",
    "\n",
    "The continuous-time quantum Monte Carlo algorithm (CT-INT) allows to find a stochastic\n",
    "solution for the Anderson impurity model\n",
    "\n",
    "$$\n",
    "\\mathcal{H} = \\epsilon_d \\sum_\\sigma d^\\dagger_\\sigma d_\\sigma\n",
    "+ U n_{d\\uparrow} n_{d\\downarrow}\n",
    "+ \\sum_{k \\sigma} \\epsilon_{k\\sigma} c^\\dagger_{k\\sigma} c_{k\\sigma}\n",
    "+ \\sum_{k \\sigma} \\left( V_{k \\sigma} d^\\dagger_{\\sigma} c_{k\\sigma} + \\mathrm{h.c.} \\right)\n",
    "$$\n",
    "\n",
    "The way the impurity is connected to the bath is encoded in the hybridization function\n",
    "\n",
    "$$\n",
    "\\Delta_\\sigma(i\\omega_n) = \\sum_k \\frac{V_k^2}{i\\omega_n - \\epsilon_{k\\sigma}}\n",
    "$$\n",
    "\n",
    "In this notebook, you will learn to use the CT-INT solver. Let us first import\n",
    "some relevant general modules."
   ]
  },
  {
   "cell_type": "code",
   "execution_count": null,
   "metadata": {},
   "outputs": [],
   "source": [
    "%matplotlib inline\n",
    "import numpy as np\n",
    "from triqs.gf import *\n",
    "from triqs.plot.mpl_interface import *\n",
    "\n",
    "params = {'legend.fontsize': 'x-large',\n",
    "          'figure.figsize': (10, 6),\n",
    "          'axes.labelsize': 'x-large',\n",
    "          'axes.titlesize':'xx-large',\n",
    "          'xtick.labelsize':'x-large',\n",
    "          'ytick.labelsize':'x-large'}\n",
    "plt.rcParams.update(params)"
   ]
  },
  {
   "cell_type": "markdown",
   "metadata": {},
   "source": [
    "## Constructing the CT-INT solver\n",
    "\n",
    "Here we show how to construct an instance of a CT-INT solver.\n",
    "First, we need to import two relevant modules. The first one\n",
    "is an interface to the mpi and will initialize the mpi.\n",
    "The second one is the CT-INT solver implemented in TRIQS.\n",
    "Then, the solver is contructed from just two parameters:\n",
    "\n",
    "- The inverse temperature `beta`\n",
    "- The number of imaginary Matsubara frequencies `n_in` to be used"
   ]
  },
  {
   "cell_type": "code",
   "execution_count": null,
   "metadata": {},
   "outputs": [],
   "source": [
    "import triqs.utility.mpi as mpi\n",
    "from triqs_ctint import Solver\n",
    "\n",
    "# Parameters\n",
    "beta = 20.0\n",
    "n_iw = 200\n",
    "\n",
    "S = Solver(beta, n_iw)"
   ]
  },
  {
   "cell_type": "markdown",
   "metadata": {},
   "source": [
    "## Solving the Anderson impurity model\n",
    "\n",
    "In order to describe the structure of the Anderson impurity model,\n",
    "a first step after the construction of the solver is to\n",
    "initialize the member `G0_iw` of the solver instance. This\n",
    "member is the non-interacting function of the model\n",
    "\n",
    "$$\n",
    "G_{0 \\sigma} = \\frac{1}{i\\omega_n - \\epsilon_d - \\Delta_\\sigma(i\\omega_n)}\n",
    "$$\n",
    "\n",
    "After the non-interacting Green function is defined, the model\n",
    "is solved by calling the `solve()` method with the following\n",
    "arguments:\n",
    "\n",
    "- The Coulomb interaction `U`\n",
    "- The parameter `delta` that defines the value\n",
    "  of the $\\alpha$ shift and allows to have a better average sign\n",
    "  \n",
    "  $$\n",
    "  \\alpha_\\sigma = \\frac{1}{2} + (-1)^\\sigma \\delta\n",
    "  $$\n",
    "  \n",
    "- The other parameters are related to the Monte Carlo\n",
    "  - `length_cycle`: This is the number of steps between two measurements. This should\n",
    "     be large enough to ensure data is decorrelated.\n",
    "  - `n_warmup_cycles`: The number of cycles used to thermalize the system.\n",
    "  - `n_cycles`: This is the number of Monte Carlo cycles, which is also the number of measurements\n",
    "     of the Green's function.\n",
    "\n",
    "The calculation will have a Markov chain of length `length_cycle` * (`n_warmup_cycles` + `n_cycles`).\n",
    "\n",
    "Below is an example solving an impurity in a flat (Wilson) bath of half-bandwidth 2."
   ]
  },
  {
   "cell_type": "code",
   "execution_count": null,
   "metadata": {},
   "outputs": [],
   "source": [
    "# Parameters\n",
    "U = 1.0\n",
    "delta = 0.1\n",
    "n_cycles = 10**5\n",
    "length_cycle = 50\n",
    "n_warmup_cycles = 5000\n",
    "\n",
    "# Energy level of the impurity level\n",
    "eps_d = -U/2 - 0.5\n",
    "\n",
    "# Initialize G0 and call solver\n",
    "S.G0_iw << inverse(iOmega_n - eps_d - Wilson(2.0))\n",
    "S.solve(U, delta, n_cycles, length_cycle, n_warmup_cycles)"
   ]
  },
  {
   "cell_type": "markdown",
   "metadata": {},
   "source": [
    "## Outputs of the solver\n",
    "\n",
    "After the solver is run, two members of the class are updated:\n",
    "- `G_iw`: This is the interacting Green function of the problem in Matsubara frequencies\n",
    "- `histogram`: A histogram showing how perturbation orders were visited"
   ]
  },
  {
   "cell_type": "code",
   "execution_count": null,
   "metadata": {},
   "outputs": [],
   "source": [
    "# Plot the Green function\n",
    "oplot(S.G_iw, '-o', x_window=(0,10))\n",
    "plt.title(\"Interacting Green function\")"
   ]
  },
  {
   "cell_type": "code",
   "execution_count": null,
   "metadata": {},
   "outputs": [],
   "source": [
    "# Plot the histogram and compute the average histogram\n",
    "hist = S.histogram\n",
    "print(\"Average order = \", np.sum(np.arange(len(hist)) * hist))\n",
    "plt.plot(hist, '-o')\n",
    "plt.title(\"Histogram of perturbation orders\")\n",
    "plt.xlim(0,10)\n",
    "plt.xlabel(\"perturbation order\");"
   ]
  },
  {
   "cell_type": "markdown",
   "metadata": {},
   "source": [
    "# Exercises"
   ]
  },
  {
   "cell_type": "markdown",
   "metadata": {},
   "source": [
    "## Exercise 1: Perturbation order\n",
    "\n",
    "Investigate how the perturbation order changes with $U$ and inverse temperature $\\beta$."
   ]
  },
  {
   "cell_type": "code",
   "execution_count": null,
   "metadata": {},
   "outputs": [],
   "source": []
  },
  {
   "cell_type": "markdown",
   "metadata": {},
   "source": [
    "## Exercise 2: Green functions and self-energy\n",
    "\n",
    "Compute the self-energy using Dyson's equation:\n",
    "\n",
    "$$\n",
    "\\Sigma(i\\omega_n) = G_{0\\sigma}^{-1} - G_{\\sigma}^{-1}\n",
    "$$\n",
    "\n",
    "Plot the Green function and the self-energy for some of your calculations. How does the\n",
    "numerical noise compare between these two quantities? Why?"
   ]
  },
  {
   "cell_type": "code",
   "execution_count": null,
   "metadata": {},
   "outputs": [],
   "source": []
  },
  {
   "cell_type": "markdown",
   "metadata": {},
   "source": [
    "## Exercise 3: Monte Carlo noise\n",
    "\n",
    "Increase and decrease the number of Monte Carlo cycles to see how its\n",
    "effect on the quality of the self-energy."
   ]
  },
  {
   "cell_type": "code",
   "execution_count": null,
   "metadata": {},
   "outputs": [],
   "source": []
  }
 ],
 "metadata": {
  "kernelspec": {
   "display_name": "Python 3",
   "language": "python",
   "name": "python3"
  },
  "language_info": {
   "codemirror_mode": {
    "name": "ipython",
    "version": 3
   },
   "file_extension": ".py",
   "mimetype": "text/x-python",
   "name": "python",
   "nbconvert_exporter": "python",
   "pygments_lexer": "ipython3",
   "version": "3.8.5"
  }
 },
 "nbformat": 4,
 "nbformat_minor": 4
}
