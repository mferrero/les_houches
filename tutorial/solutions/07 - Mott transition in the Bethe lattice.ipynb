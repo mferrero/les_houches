{
 "cells": [
  {
   "cell_type": "markdown",
   "metadata": {
    "run_control": {
     "frozen": false,
     "read_only": false
    }
   },
   "source": [
    "# Mott transition on the Bethe lattice Hubbard model\n",
    "\n",
    "In this notebook you will reproduce the Bethe lattice DMFT that we did earlier with IPT,\n",
    "but you will use the CT-INT solver to find the solution of the impurity problem. We will\n",
    "consider the problem at half-filling again. You will see that the numerically\n",
    "exact result is a bit different from IPT. This can be seen in the \n",
    "plot below that shows the Mott transition obtained by the iterated perturbation\n",
    "theory and by the numerical renormalzation group. It is taken from\n",
    "the article\n",
    "_Finite-temperature numerical renormalization group study of the Mott transition_,\n",
    "R. Bulla, T. A. Costi, and D. Vollhardt\n",
    "Phys. Rev. B 64, 045103 (2001). Note that here the unit are $W = 4t$, where $W$ is the full bandwith of the\n",
    "semicircular.\n",
    "\n",
    "<img src=\"../figures/dmft_bethe.png\" alt=\"2d_hubbard\" style=\"width: 400px;\"/>\n"
   ]
  },
  {
   "cell_type": "markdown",
   "metadata": {
    "run_control": {
     "frozen": false,
     "read_only": false
    }
   },
   "source": [
    "## Exercise 1\n",
    "\n",
    "Write a DMFT loop, like you did earlier but this time using the CT-INT solver. Solve the Bethe lattice\n",
    "model at $\\beta=10$ for $U=4.0$ and $U=5.0$. Try to save your results to an archive in order to\n",
    "postprocess them later.\n",
    "\n",
    "*Hint*: It is useful to symmetrize the Green's function (make the `up` and `down` components the same) to avoid some artificial polarization of the system close to the Mott transition. You might want to enforce the `up`-`down` symmetry on `S.G` just before the self-consistency condition. In order\n",
    "to have reasonable data you should have at least 5000 cycles. You will see that simulations take some time."
   ]
  },
  {
   "cell_type": "code",
   "execution_count": null,
   "metadata": {},
   "outputs": [],
   "source": [
    "from triqs.gf import *\n",
    "from triqs.operators import *\n",
    "from h5 import *\n",
    "import triqs.utility.mpi as mpi\n",
    "from triqs_ctint import Solver\n",
    "import numpy as np\n",
    "\n",
    "# Parameters of the model\n",
    "t = 1.0\n",
    "beta = 10.0\n",
    "n_loops = 10\n",
    "n_iw = 400\n",
    "delta = 0.1\n",
    "n_cycles = 5000\n",
    "\n",
    "# Construct the impurity solver\n",
    "S = Solver(beta, n_iw)\n",
    "\n",
    "# Values of U to be computed\n",
    "U_list = [2.0, 3.0, 4.0, 5.0]\n",
    "\n",
    "# Run for several values of U (just do 4 and 5 if the calculations are slow)\n",
    "for U in U_list:\n",
    "    print('\\n U =', U, '\\n')\n",
    "\n",
    "    # This is a first guess for G\n",
    "    S.G_iw << SemiCircular(2*t)\n",
    "\n",
    "    # DMFT loop with self-consistency\n",
    "    for i in range(n_loops):\n",
    "    \n",
    "        print(\"Iteration = %i / %i\" % (i+1, n_loops))\n",
    "    \n",
    "        # Symmetrize the Green's function and use self-consistency\n",
    "        g = 0.5 * ( S.G_iw['up'] + S.G_iw['down'] )\n",
    "        for name, g0 in S.G0_iw:\n",
    "            g0 << inverse( iOmega_n + U/2.0 - t**2 * g )\n",
    "\n",
    "        # Solve the impurity problem\n",
    "        S.solve(U, delta, n_cycles)\n",
    "    \n",
    "        # Save iteration in archive\n",
    "        with HDFArchive(\"results_U%.2f.h5\"%U) as A:\n",
    "            A['G0-%i'%i] = S.G0_iw\n",
    "            A['G-%i'%i] = S.G_iw"
   ]
  },
  {
   "cell_type": "markdown",
   "metadata": {
    "run_control": {
     "frozen": false,
     "read_only": false
    }
   },
   "source": [
    "Exercise 2\n",
    "----------\n",
    "\n",
    "Here, you will learn to analyze the output of the solver. As discussed, the Monte Carlo algorithm provide results on the\n",
    "Matsubara axis. This makes the analysis of the results slightly more delicate than if we had them directly on the real\n",
    "axis. When we used the IPT solver, we could see the Mott transition as the appearance of a gap in the spectral function.\n",
    "After the Monte Carlo run, we do not have the spectral function, so we will have to use some other criteria to decide, e.g.,\n",
    "if the system is metallic or insulating.\n",
    "\n",
    "Plot the Green's function at the end of the DMFT loops for different values of $U$ (say 4 and 5). Focus on the extrapolation of the imaginary part of the Green's function to zero frequency. How does it change with $U$? Is there\n",
    "a way to see the Mott transition just by inspecting the imaginary part of the Green's function?"
   ]
  },
  {
   "cell_type": "code",
   "execution_count": null,
   "metadata": {},
   "outputs": [],
   "source": [
    "%matplotlib inline\n",
    "from triqs.plot.mpl_interface import *\n",
    "\n",
    "for U in U_list:\n",
    "\n",
    "    A = HDFArchive(\"results_U%.2f.h5\"%U, 'r')\n",
    "\n",
    "    # Plot the Green's function of the last iteration\n",
    "    oploti(A['G-9']['up'], '-x', x_window=(0,10), label='U = %.2f'%U)\n",
    "\n",
    "plt.title(\"Interpreting $G(i\\omega_n)$\")\n",
    "plt.xlabel(\"$i\\omega_n$\")\n",
    "plt.ylabel(\"$G(i\\omega_n)$\")"
   ]
  },
  {
   "cell_type": "markdown",
   "metadata": {},
   "source": [
    "### Interpretation\n",
    "\n",
    "As you can see, the behavior of the imaginary part is very different for the two values of $U$. When\n",
    "$U$ is small, the system is a metal and the imaginary part extrapolated to zero goes to a finite value.\n",
    "Instead, for large $U$, the system is a Mott insulator and the imaginary part goes to zero. The reason\n",
    "is that the extrapolation to zero is directly proportional to the density of states at the chemical\n",
    "potential. If the system is gapped, the density is zero; if the system is a metal, there is spectral\n",
    "weight and the density is finite. Therefore, even on the Matsubara axis, one has a way to decide if the\n",
    "system is metallic or not."
   ]
  },
  {
   "cell_type": "markdown",
   "metadata": {
    "run_control": {
     "frozen": false,
     "read_only": false
    }
   },
   "source": [
    "## Exercise 3\n",
    "\n",
    "Do the same exercise as above, but analyze the self-energy. The noise usually gets bigger for larger frequencies, so just focus on the first few Matsubara frequencies. There the noise should not be too important. Again, by looking at the extrapolation to zero frequency of the imaginary part of the self-energy, can you tell where the Mott transition happens?"
   ]
  },
  {
   "cell_type": "code",
   "execution_count": null,
   "metadata": {},
   "outputs": [],
   "source": [
    "for U in U_list:\n",
    "\n",
    "    A = HDFArchive(\"results_U%.2f.h5\"%U, 'r')\n",
    "\n",
    "    Sigma = inverse(A['G0-9']) - inverse(A['G-9'])\n",
    "\n",
    "    # Plot the self-energy of the last iteration\n",
    "    oplot(Sigma['up'].imag, '-x', name='U = %.2f'%U, x_window=(0,10))\n",
    "\n",
    "plt.title(\"Interpreting $\\Sigma(i\\omega_n)$\")\n",
    "plt.xlabel(\"$i\\omega_n$\")\n",
    "plt.ylabel(\"$\\Sigma(i\\omega_n)$\");"
   ]
  },
  {
   "cell_type": "markdown",
   "metadata": {},
   "source": [
    "Here the extrapolation to zero goes to zero for the metal and diverges in the insulator. In general, we expect that the\n",
    "self-energy goes to zero linearly at small frequencies in a Fermi-liquid metal. As we will see below, the slope\n",
    "tells something about the degree of correlation. In the Mott insulator, a gap open because of the development of a\n",
    "pole in the self-energy. The manifestation of this pole is a diverging imaginary part of the self-energy a low frequencies\n",
    "as is visible here."
   ]
  },
  {
   "cell_type": "markdown",
   "metadata": {
    "run_control": {
     "frozen": false,
     "read_only": false
    }
   },
   "source": [
    "## Exercise 4\n",
    "\n",
    "A very useful quantity to measure the degree of correlation of a metal is the *quasiparticle weight* $Z$. It is defined as\n",
    "\n",
    "$$\n",
    "Z = \\lim_{\\omega_n \\rightarrow 0} \\Big( 1 - \\frac{d\\mathrm{Im} \\Sigma(i\\omega_n)}{di\\omega_n} \\Big)^{-1}\n",
    "$$\n",
    "\n",
    "For a non-interacting metal $Z=1$. As correlations appear, $Z$ gradually gets smaller. It reaches 0 at the Mott transition. Compare $Z$ for the two values of $U$ that you computed above. If you have more time,\n",
    "make a plot of $Z$ versus $U$ for the Bethe lattice Hubbard model.\n",
    "\n",
    "*Hint*: In order to have access to the values of $\\Sigma_\\uparrow(i\\omega_n)$, you can use `Sigma['up'](n)`. This will be useful to numerically compute the derivative required to compute $Z$."
   ]
  },
  {
   "cell_type": "markdown",
   "metadata": {},
   "source": [
    "### Solution\n",
    "\n",
    "We estimate the derivative using the following approximation\n",
    "\n",
    "$$\n",
    "Z = \\lim_{\\omega_n \\rightarrow 0} \\Big( 1 - \\frac{d\\mathrm{Im} \\Sigma(i\\omega_n)}{di\\omega_n} \\Big)^{-1}\n",
    "  \\sim \\Big( 1 - \\frac{\\mathrm{Im} \\Sigma(i\\omega_0)}{i\\omega_0} \\Big)^{-1}\n",
    "$$\n",
    "\n",
    "with $\\omega_0 = \\pi / \\beta$ being the first Matsubara frequency."
   ]
  },
  {
   "cell_type": "code",
   "execution_count": null,
   "metadata": {},
   "outputs": [],
   "source": [
    "Z_list = []\n",
    "\n",
    "for U in U_list:\n",
    "    \n",
    "    A = HDFArchive(\"results_U%.2f.h5\"%U, 'r')\n",
    "    Sigma = inverse(A['G0-%i'%i]) - inverse(A['G-9'])\n",
    "    \n",
    "    Z = 1 / (1 - (Sigma['up'](0)[0,0].imag * beta / np.pi))\n",
    "    Z_list.append(Z)\n",
    "    \n",
    "plt.plot(U_list, Z_list, '-o')\n",
    "plt.title(\"Quasiparticle weight\")\n",
    "plt.xlabel('U')\n",
    "plt.ylabel('Z')"
   ]
  },
  {
   "cell_type": "markdown",
   "metadata": {
    "run_control": {
     "frozen": false,
     "read_only": false
    }
   },
   "source": [
    "Exercise 5\n",
    "----------\n",
    "\n",
    "Go back to your IPT code and try to modify it to extract the $Z$ versus $U$ curve. Compare this to the result you found in Exercise 4. Is the critical $U$ for the Mott transition similar to the one you found using CT-INT? Is\n",
    "it compatible with the plot above?"
   ]
  },
  {
   "cell_type": "code",
   "execution_count": null,
   "metadata": {},
   "outputs": [],
   "source": [
    "from triqs.gf import *\n",
    "from triqs.plot.mpl_interface import *\n",
    "\n",
    "class IPTSolver:\n",
    "\n",
    "    def __init__(self, beta):\n",
    "\n",
    "        self.beta = beta\n",
    "\n",
    "        # Matsubara frequency\n",
    "        self.g = GfImFreq(indices=[0], beta=beta, name='0')\n",
    "        self.g0 = self.g.copy()\n",
    "        self.sigma = self.g.copy()\n",
    "        \n",
    "        # Imaginary time\n",
    "        self.g0t = GfImTime(indices=[0], beta = self.beta, name='G0t')\n",
    "        self.sigmat = self.g0t.copy()\n",
    "        \n",
    "    def solve(self, U):\n",
    "\n",
    "        self.g0t << Fourier(self.g0)\n",
    "        self.sigmat << (U**2) * self.g0t * self.g0t * self.g0t\n",
    "        self.sigma << Fourier(self.sigmat)\n",
    "\n",
    "        # Dyson\n",
    "        self.g << self.g0 * inverse(1.0 - self.sigma * self.g0)\n",
    "        \n",
    "\n",
    "t = 1.0\n",
    "beta = 10\n",
    "n_loops = 30\n",
    "\n",
    "S = IPTSolver(beta = beta)\n",
    "\n",
    "U_list2 = []\n",
    "Z_list2 = []\n",
    "\n",
    "for U in np.arange(0.0, 10.0, 1.0):\n",
    "    \n",
    "    S.g << SemiCircular(2*t)\n",
    "    for i in range(n_loops):\n",
    "\n",
    "        S.g0 << inverse( iOmega_n - t**2 * S.g )\n",
    "        S.solve(U = U)\n",
    "\n",
    "    Z = 1 / (1 - (S.sigma(0)[0,0].imag * beta / np.pi))\n",
    "    U_list2.append(U)\n",
    "    Z_list2.append(Z)\n",
    "    \n",
    "    print(Z)\n",
    "    \n",
    "plt.plot(U_list2, Z_list2, '-o', label='IPT')\n",
    "plt.plot(U_list, Z_list, '-x', label='CT-INT')\n",
    "plt.xlabel('U')\n",
    "plt.ylabel('Z')\n",
    "plt.legend()"
   ]
  },
  {
   "cell_type": "markdown",
   "metadata": {
    "run_control": {
     "frozen": false,
     "read_only": false
    }
   },
   "source": [
    "Exercise 6\n",
    "----------\n",
    "\n",
    "Try to analytically continue the Green's function on the real axis using Padé approximants. What can\n",
    "you say about the result?"
   ]
  },
  {
   "cell_type": "code",
   "execution_count": null,
   "metadata": {},
   "outputs": [],
   "source": [
    "for U in U_list:\n",
    "    with HDFArchive(\"results_U%.2f.h5\"%U, 'r') as A:\n",
    "        \n",
    "        # average over last iterations\n",
    "        for i in range(5,10):\n",
    "            if i == 5:\n",
    "                g = A['G-%i'%i]['up']\n",
    "            else:\n",
    "                g += A['G-%i'%i]['up']\n",
    "            g /= 5\n",
    "            \n",
    "        # impose real part = 0\n",
    "        g.data[:] = 0.5 * ( g.data - g.data.conjugate() )\n",
    "\n",
    "    g_real = GfReFreq(indices=[0], window=[-5,5])\n",
    "    g_real.set_from_pade(g)\n",
    "    oplot(-g_real.imag/np.pi, label=\"U = %.2f\"%U)\n",
    "\n",
    "plt.ylabel(\"$A(\\omega)$\");\n",
    "plt.title(\"Spectral function through Mott transition\");"
   ]
  },
  {
   "cell_type": "markdown",
   "metadata": {},
   "source": [
    "It is very difficult to do the analytical continuation on noisy data. Some features are present but they are very unstable against small changes in the data. One can improve things a bit in this special case of half-filling by\n",
    "enforcing manually that the real part is equal to zero. The analytical continuation is then a bit better and\n",
    "the results show a quasiparticle peak present at $U=4.0$. Instead, at $U=5.0$ we are in the insulating regime and we see signatures of the Hubbard bands.\n",
    "\n",
    "One would have to make much longer runs in order to reduce the error bars and get\n",
    "more stable analytical continuations. The Padé approximants can only be used on very accurate data. When the noise is still quite large, one has to use different analytical continuation methods like MaxEnt."
   ]
  }
 ],
 "metadata": {
  "kernelspec": {
   "display_name": "Python 3",
   "language": "python",
   "name": "python3"
  },
  "language_info": {
   "codemirror_mode": {
    "name": "ipython",
    "version": 3
   },
   "file_extension": ".py",
   "mimetype": "text/x-python",
   "name": "python",
   "nbconvert_exporter": "python",
   "pygments_lexer": "ipython3",
   "version": "3.8.5"
  },
  "latex_envs": {
   "LaTeX_envs_menu_present": true,
   "autocomplete": true,
   "bibliofile": "biblio.bib",
   "cite_by": "apalike",
   "current_citInitial": 1,
   "eqLabelWithNumbers": true,
   "eqNumInitial": 1,
   "hotkeys": {
    "equation": "Ctrl-E",
    "itemize": "Ctrl-I"
   },
   "labels_anchors": false,
   "latex_user_defs": false,
   "report_style_numbering": false,
   "user_envs_cfg": false
  },
  "widgets": {
   "state": {},
   "version": "1.1.1"
  }
 },
 "nbformat": 4,
 "nbformat_minor": 1
}
