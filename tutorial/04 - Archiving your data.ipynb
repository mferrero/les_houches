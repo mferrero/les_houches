{
 "cells": [
  {
   "cell_type": "markdown",
   "metadata": {
    "run_control": {
     "frozen": false,
     "read_only": false
    }
   },
   "source": [
    "HDF5 Archives\n",
    "=============\n",
    "\n",
    "An important issue when it comes to numerical calculations is to save data in a compact, portable and light way, which allows for easy recovery. To this end, the objects in TRIQS\n",
    "are save into hdf5 archives. The interface in TRIQS allows\n",
    "to recover objects directly, as they were saved. Let us first import the relevant module\n",
    "(and then some more for plotting later)"
   ]
  },
  {
   "cell_type": "code",
   "execution_count": 1,
   "metadata": {
    "run_control": {
     "frozen": false,
     "read_only": false
    }
   },
   "outputs": [],
   "source": [
    "from h5 import HDFArchive"
   ]
  },
  {
   "cell_type": "code",
   "execution_count": 2,
   "metadata": {
    "run_control": {
     "frozen": false,
     "read_only": false
    }
   },
   "outputs": [],
   "source": [
    "%matplotlib inline\n",
    "from triqs.plot.mpl_interface import *\n",
    "\n",
    "# change scale of all figures to make them bigger\n",
    "import matplotlib as mpl\n",
    "mpl.rcParams['savefig.dpi']=100 "
   ]
  },
  {
   "cell_type": "markdown",
   "metadata": {
    "run_control": {
     "frozen": false,
     "read_only": false
    }
   },
   "source": [
    "Writing in an archive\n",
    "---------------------\n",
    "\n",
    "We initialize a Green function and write it to file together with a number"
   ]
  },
  {
   "cell_type": "code",
   "execution_count": 3,
   "metadata": {
    "run_control": {
     "frozen": false,
     "read_only": false
    }
   },
   "outputs": [],
   "source": [
    "from triqs.gf import *\n",
    "g = GfReFreq(indices=[0], window=[-2,2], name='GF')\n",
    "g << SemiCircular(1.0)\n",
    "\n",
    "with HDFArchive(\"my_archive.h5\",'w') as A:\n",
    "    A['number'] = 12\n",
    "    A['GF'] = g"
   ]
  },
  {
   "cell_type": "markdown",
   "metadata": {
    "run_control": {
     "frozen": false,
     "read_only": false
    }
   },
   "source": [
    "Here, `'w'` means we overwrite the archive if there was an existing one. If you want to append information to an\n",
    "existing archive without destroying it, use `'a'`. An archive essentially behaves like a python dictionary, i.e. we can put any object in there\n",
    "\n",
    "From the shell we can now see the new file and check what is in it"
   ]
  },
  {
   "cell_type": "code",
   "execution_count": 4,
   "metadata": {
    "run_control": {
     "frozen": false,
     "read_only": false
    }
   },
   "outputs": [
    {
     "name": "stdout",
     "output_type": "stream",
     "text": [
      "my_archive.h5\r\n"
     ]
    }
   ],
   "source": [
    "!ls *.h5"
   ]
  },
  {
   "cell_type": "code",
   "execution_count": 5,
   "metadata": {
    "run_control": {
     "frozen": false,
     "read_only": false
    }
   },
   "outputs": [
    {
     "name": "stdout",
     "output_type": "stream",
     "text": [
      "GF                       Group\r\n",
      "number                   Dataset {SCALAR}\r\n"
     ]
    }
   ],
   "source": [
    "!h5ls my_archive.h5"
   ]
  },
  {
   "cell_type": "markdown",
   "metadata": {
    "run_control": {
     "frozen": false,
     "read_only": false
    }
   },
   "source": [
    "Note: The `!` allows to run shell commands from the notebook. `h5ls` is a command that lists the entries in an archive."
   ]
  },
  {
   "cell_type": "markdown",
   "metadata": {
    "run_control": {
     "frozen": false,
     "read_only": false
    }
   },
   "source": [
    "Reading from an archive\n",
    "-----------------------\n",
    "\n",
    "Of course, later on we want to read from our saved archive.\n",
    "We just open it again (the `'r'` flags means that we just read from the archive and\n",
    "cannot modify it)"
   ]
  },
  {
   "cell_type": "code",
   "execution_count": 6,
   "metadata": {
    "run_control": {
     "frozen": false,
     "read_only": false
    }
   },
   "outputs": [
    {
     "name": "stdout",
     "output_type": "stream",
     "text": [
      "HDFArchive (partial view) with the following content:\n",
      "  GF : subgroup\n",
      "  number : data \n",
      "Number =  12\n"
     ]
    },
    {
     "data": {
      "image/png": "[encoded data removed]",
      "text/plain": [
       "<Figure size 432x288 with 1 Axes>"
      ]
     },
     "metadata": {
      "needs_background": "light"
     },
     "output_type": "display_data"
    }
   ],
   "source": [
    "with HDFArchive(\"my_archive.h5\",'r') as B:\n",
    "    # show the contents of the archive\n",
    "    print(B)\n",
    "    # reconstruct the object number from B\n",
    "    print(\"Number = \", B['number'])\n",
    "    # reconstruct and plot the Green's function\n",
    "    oplot(B['GF'], name = 'GF')"
   ]
  },
  {
   "cell_type": "code",
   "execution_count": null,
   "metadata": {},
   "outputs": [],
   "source": []
  }
 ],
 "metadata": {
  "kernelspec": {
   "display_name": "Python 3",
   "language": "python",
   "name": "python3"
  },
  "language_info": {
   "codemirror_mode": {
    "name": "ipython",
    "version": 3
   },
   "file_extension": ".py",
   "mimetype": "text/x-python",
   "name": "python",
   "nbconvert_exporter": "python",
   "pygments_lexer": "ipython3",
   "version": "3.8.5"
  },
  "latex_envs": {
   "LaTeX_envs_menu_present": true,
   "autocomplete": true,
   "bibliofile": "biblio.bib",
   "cite_by": "apalike",
   "current_citInitial": 1,
   "eqLabelWithNumbers": true,
   "eqNumInitial": 1,
   "hotkeys": {
    "equation": "Ctrl-E",
    "itemize": "Ctrl-I"
   },
   "labels_anchors": false,
   "latex_user_defs": false,
   "report_style_numbering": false,
   "user_envs_cfg": false
  },
  "widgets": {
   "state": {},
   "version": "1.1.1"
  }
 },
 "nbformat": 4,
 "nbformat_minor": 1
}
