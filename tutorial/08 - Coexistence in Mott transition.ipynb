{
 "cells": [
  {
   "cell_type": "markdown",
   "metadata": {},
   "source": [
    "# Coexistence region around the Mott transition\n",
    "\n",
    "In this assignment, we are going to study the coexistence region and hysteresis around the metal-insulator phase transition that is observed in DMFT. We will be using the IPT solver you wrote in the exercises.\n",
    "\n",
    "## Some background\n",
    "\n",
    "Let us look at a schematic $U$-$T$ phase diagram of the Hubbard model at half filling as obtained in DMFT.\n",
    "\n",
    "<img src=\"figures/dmft_U_T_phase_diag.png\">\n",
    "(Figure taken from Georges et al., arXiv:cond-mat/0311520)\n",
    "\n",
    "We have a first-order transition (marked in red) ending in a critical point, and various crossovers marked in blue. There is metal-insulator coexistence region around the first-order transition demarcated by the dotted lines. In this sense, there are two critical values of $U$ for the metal-insulator transition, denoted $U_{c1}$ and $U_{c2}$ in the plot above.\n",
    "\n",
    "You can easily 'see' the coexistence region by studying the spectral function as done in the IPT tutorial. There will be a range of $U$ for which you will be able to stabilise both a metallic and insulating solution. A more convenient quantity to examine is the *quasiparticle weight* $Z$, which measures the degree of correlation of a metal. It is defined as\n",
    "\n",
    "$$\n",
    "Z = \\lim_{\\omega_n \\rightarrow 0} \\Big( 1 - \\frac{d\\mathrm{Im} \\Sigma(i\\omega_n)}{di\\omega_n} \\Big)^{-1}\n",
    "$$\n",
    "\n",
    "For a non-interacting metal $Z=1$. As correlations appear, $Z$ gradually gets smaller. It reaches 0 at the Mott transition.\n",
    "\n",
    "## Your task\n",
    "\n",
    "Your task will be to adapt your IPT DMFT code (on the Bethe lattice with $t=1.0$) to study $Z$ as a function of increasing and decreasing $U$. For low temperatures (i.e. below the critical temperature), you will see a hysteresis loop. This is suppressed at the critical point and temperatures above.\n",
    "\n",
    "## Some hints\n",
    "\n",
    "*Hint 1*: As you gradually increase/decrease the interaction strength $U$, remember to use $G$ from the previous $U$ value as the starting point, i.e. do not reinitialise $G$ to that corresponding to a semi-circular DOS. Otherwise, you will not be able to stabilise both phases in the coexistence region.\n",
    "\n",
    "*Hint 2*: In order to have access to the values of $\\Sigma(i\\omega_n)$, you can use `sigma(n)`. This will be useful to numerically compute the derivative required to compute $Z$. You may estimate the derivative using the following approximation\n",
    "\n",
    "$$\n",
    "Z = \\lim_{\\omega_n \\rightarrow 0} \\Big( 1 - \\frac{d\\mathrm{Im} \\Sigma(i\\omega_n)}{di\\omega_n} \\Big)^{-1}\n",
    "  \\sim \\Big( 1 - \\frac{\\mathrm{Im} \\Sigma(i\\omega_0)}{i\\omega_0} \\Big)^{-1}\n",
    "$$\n",
    "\n",
    "with $\\omega_0 = \\pi / \\beta$ being the first Matsubara frequency.\n",
    "\n",
    "*Hint 3*: Consider the range $U=2-5$, increasing/decreasing $U$ in steps of 0.1 for a smooth plot.\n",
    "\n",
    "*Hint 4*: If you see spurious values of $Z$ (outside the hysteresis region), increase the number of self-consistency loops to ensure convergence.\n",
    "\n",
    "*Hint 5*: Preferably plot $\\Sigma$ with points only (no connecting lines, 'o') to see correctly the data on the Matsubara axis."
   ]
  },
  {
   "cell_type": "markdown",
   "metadata": {},
   "source": [
    "## Exercise 1\n",
    "\n",
    "Recover the IPT impurity solver that you have created earlier.\n",
    "Compute the Green function and self-energy as a function of $U$\n",
    "(once increasing and once decreasing) for two different\n",
    "values of the inverse temperature:\n",
    "\n",
    " - $\\beta = 20$\n",
    " - $\\beta = 0.5$\n",
    " \n",
    "For both temperatures plot the quasiparticle weight $Z$ as a function of $U$ and estimate\n",
    "$U_{c1}$ and $U_{c2}$. Interpret your results."
   ]
  },
  {
   "cell_type": "code",
   "execution_count": null,
   "metadata": {},
   "outputs": [],
   "source": []
  },
  {
   "cell_type": "markdown",
   "metadata": {},
   "source": [
    "## Exercise 2\n",
    "\n",
    "Plot the self-energy $\\Sigma(i\\omega_n)$ for $U < U_c$ and $U > U_c$, e.g. $U=1$ and $U=6$. Make sure you are converged (i.e. use a large enough number of self-consistency loops). You can\n",
    "do this for $\\beta = 20$. Interpret your results and relate them with the results you have obtained\n",
    "earlier for $Z$."
   ]
  },
  {
   "cell_type": "code",
   "execution_count": null,
   "metadata": {},
   "outputs": [],
   "source": []
  }
 ],
 "metadata": {
  "kernelspec": {
   "display_name": "Python 3",
   "language": "python",
   "name": "python3"
  },
  "language_info": {
   "codemirror_mode": {
    "name": "ipython",
    "version": 3
   },
   "file_extension": ".py",
   "mimetype": "text/x-python",
   "name": "python",
   "nbconvert_exporter": "python",
   "pygments_lexer": "ipython3",
   "version": "3.8.5"
  },
  "widgets": {
   "state": {},
   "version": "1.1.0"
  }
 },
 "nbformat": 4,
 "nbformat_minor": 1
}
